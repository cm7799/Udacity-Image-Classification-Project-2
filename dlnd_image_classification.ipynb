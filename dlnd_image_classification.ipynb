{
 "cells": [
  {
   "cell_type": "markdown",
   "metadata": {
    "collapsed": true
   },
   "source": [
    "# Image Classification\n",
    "In this project, you'll classify images from the [CIFAR-10 dataset](https://www.cs.toronto.edu/~kriz/cifar.html).  The dataset consists of airplanes, dogs, cats, and other objects. You'll preprocess the images, then train a convolutional neural network on all the samples. The images need to be normalized and the labels need to be one-hot encoded.  You'll get to apply what you learned and build a convolutional, max pooling, dropout, and fully connected layers.  At the end, you'll get to see your neural network's predictions on the sample images.\n",
    "## Get the Data\n",
    "Run the following cell to download the [CIFAR-10 dataset for python](https://www.cs.toronto.edu/~kriz/cifar-10-python.tar.gz)."
   ]
  },
  {
   "cell_type": "code",
   "execution_count": 2,
   "metadata": {},
   "outputs": [
    {
     "name": "stdout",
     "output_type": "stream",
     "text": [
      "All files found!\n"
     ]
    }
   ],
   "source": [
    "\"\"\"\n",
    "DON'T MODIFY ANYTHING IN THIS CELL THAT IS BELOW THIS LINE\n",
    "\"\"\"\n",
    "from urllib.request import urlretrieve\n",
    "from os.path import isfile, isdir\n",
    "from tqdm import tqdm\n",
    "import problem_unittests as tests\n",
    "import tarfile\n",
    "\n",
    "cifar10_dataset_folder_path = 'cifar-10-batches-py'\n",
    "\n",
    "# Use Floyd's cifar-10 dataset if present\n",
    "floyd_cifar10_location = '/input/cifar-10/python.tar.gz'\n",
    "if isfile(floyd_cifar10_location):\n",
    "    tar_gz_path = floyd_cifar10_location\n",
    "else:\n",
    "    tar_gz_path = 'cifar-10-python.tar.gz'\n",
    "\n",
    "class DLProgress(tqdm):\n",
    "    last_block = 0\n",
    "\n",
    "    def hook(self, block_num=1, block_size=1, total_size=None):\n",
    "        self.total = total_size\n",
    "        self.update((block_num - self.last_block) * block_size)\n",
    "        self.last_block = block_num\n",
    "\n",
    "if not isfile(tar_gz_path):\n",
    "    with DLProgress(unit='B', unit_scale=True, miniters=1, desc='CIFAR-10 Dataset') as pbar:\n",
    "        urlretrieve(\n",
    "            'https://www.cs.toronto.edu/~kriz/cifar-10-python.tar.gz',\n",
    "            tar_gz_path,\n",
    "            pbar.hook)\n",
    "\n",
    "if not isdir(cifar10_dataset_folder_path):\n",
    "    with tarfile.open(tar_gz_path) as tar:\n",
    "        tar.extractall()\n",
    "        tar.close()\n",
    "\n",
    "\n",
    "tests.test_folder_path(cifar10_dataset_folder_path)"
   ]
  },
  {
   "cell_type": "markdown",
   "metadata": {},
   "source": [
    "## Explore the Data\n",
    "The dataset is broken into batches to prevent your machine from running out of memory.  The CIFAR-10 dataset consists of 5 batches, named `data_batch_1`, `data_batch_2`, etc.. Each batch contains the labels and images that are one of the following:\n",
    "* airplane\n",
    "* automobile\n",
    "* bird\n",
    "* cat\n",
    "* deer\n",
    "* dog\n",
    "* frog\n",
    "* horse\n",
    "* ship\n",
    "* truck\n",
    "\n",
    "Understanding a dataset is part of making predictions on the data.  Play around with the code cell below by changing the `batch_id` and `sample_id`. The `batch_id` is the id for a batch (1-5). The `sample_id` is the id for a image and label pair in the batch.\n",
    "\n",
    "Ask yourself \"What are all possible labels?\", \"What is the range of values for the image data?\", \"Are the labels in order or random?\".  Answers to questions like these will help you preprocess the data and end up with better predictions."
   ]
  },
  {
   "cell_type": "code",
   "execution_count": 3,
   "metadata": {},
   "outputs": [
    {
     "name": "stdout",
     "output_type": "stream",
     "text": [
      "\n",
      "Stats of batch 3:\n",
      "Samples: 10000\n",
      "Label Counts: {0: 994, 1: 1042, 2: 965, 3: 997, 4: 990, 5: 1029, 6: 978, 7: 1015, 8: 961, 9: 1029}\n",
      "First 20 Labels: [8, 5, 0, 6, 9, 2, 8, 3, 6, 2, 7, 4, 6, 9, 0, 0, 7, 3, 7, 2]\n",
      "\n",
      "Example of Image 999:\n",
      "Image - Min Value: 1 Max Value: 238\n",
      "Image - Shape: (32, 32, 3)\n",
      "Label - Label Id: 8 Name: ship\n"
     ]
    },
    {
     "data": {
      "image/png": "[encoded data removed]",
      "text/plain": [
       "<matplotlib.figure.Figure at 0x121e636a0>"
      ]
     },
     "metadata": {
      "image/png": {
       "height": 250,
       "width": 253
      }
     },
     "output_type": "display_data"
    }
   ],
   "source": [
    "%matplotlib inline\n",
    "%config InlineBackend.figure_format = 'retina'\n",
    "\n",
    "import helper\n",
    "import numpy as np\n",
    "\n",
    "# Explore the dataset\n",
    "batch_id = 3\n",
    "sample_id = 999\n",
    "helper.display_stats(cifar10_dataset_folder_path, batch_id, sample_id)"
   ]
  },
  {
   "cell_type": "code",
   "execution_count": 4,
   "metadata": {},
   "outputs": [
    {
     "name": "stdout",
     "output_type": "stream",
     "text": [
      "Tests Passed\n"
     ]
    }
   ],
   "source": [
    "def normalize(x):\n",
    "    \"\"\"\n",
    "    Normalize a list of sample image data in the range of 0 to 1\n",
    "    : x: List of image data.  The image shape is (32, 32, 3)\n",
    "    : return: Numpy array of normalize data\n",
    "    \"\"\"\n",
    "    # TODO: Implement Function\n",
    "    \n",
    "    norm =np.array(x/255)\n",
    "    return norm\n",
    "\n",
    "\"\"\"\n",
    "DON'T MODIFY ANYTHING IN THIS CELL THAT IS BELOW THIS LINE\n",
    "\"\"\"\n",
    "tests.test_normalize(normalize)"
   ]
  },
  {
   "cell_type": "markdown",
   "metadata": {},
   "source": [
    "Above I **normalized** the image data. What this essentially means is that I scale all the numeric valriables in the range of [0,1]\n",
    "\n",
    "As shown in the for loop this can be done using the formula coded."
   ]
  },
  {
   "cell_type": "markdown",
   "metadata": {},
   "source": [
    "## Implement Preprocess Functions\n",
    "### Normalize\n",
    "In the cell below, implement the `normalize` function to take in image data, `x`, and return it as a normalized Numpy array. The values should be in the range of 0 to 1, inclusive.  The return object should be the same shape as `x`."
   ]
  },
  {
   "cell_type": "markdown",
   "metadata": {},
   "source": [
    "### One-hot encode\n",
    "Just like the previous code cell, you'll be implementing a function for preprocessing.  This time, you'll implement the `one_hot_encode` function. The input, `x`, are a list of labels.  Implement the function to return the list of labels as One-Hot encoded Numpy array.  The possible values for labels are 0 to 9. The one-hot encoding function should return the same encoding for each value between each call to `one_hot_encode`.  Make sure to save the map of encodings outside the function.\n",
    "\n",
    "Hint: Don't reinvent the wheel."
   ]
  },
  {
   "cell_type": "code",
   "execution_count": 5,
   "metadata": {},
   "outputs": [
    {
     "name": "stdout",
     "output_type": "stream",
     "text": [
      "Tests Passed\n"
     ]
    }
   ],
   "source": [
    "#n_values=10 because the possible values for labels are 0 to 9\n",
    "def one_hot_encode(x, n_values=10):  \n",
    "    \"\"\"\n",
    "    One hot encode a list of sample labels. Return a one-hot encoded vector for each label.\n",
    "    : x: List of sample Labels\n",
    "    : return: Numpy array of one-hot encoded labels\n",
    "    \"\"\"\n",
    "    # TODO: Implement Function\n",
    "    \n",
    "    # The documentation for OneHotEncoder: http://scikit-learn.org/stable/modules/generated/sklearn.preprocessing.OneHotEncoder.html\n",
    "    from sklearn.preprocessing import OneHotEncoder\n",
    "    \n",
    "    #create the encoder\n",
    "    encoder = OneHotEncoder(n_values = n_values)\n",
    "    one_hot_encoded_labels = encoder.fit_transform(np.array(x).reshape(-1,1)).toarray()\n",
    "    return one_hot_encoded_labels\n",
    "\n",
    "\"\"\"\n",
    "DON'T MODIFY ANYTHING IN THIS CELL THAT IS BELOW THIS LINE\n",
    "\"\"\"\n",
    "tests.test_one_hot_encode(one_hot_encode)"
   ]
  },
  {
   "cell_type": "markdown",
   "metadata": {},
   "source": [
    "### Randomize Data\n",
    "As you saw from exploring the data above, the order of the samples are randomized.  It doesn't hurt to randomize it again, but you don't need to for this dataset."
   ]
  },
  {
   "cell_type": "markdown",
   "metadata": {},
   "source": [
    "## Preprocess all the data and save it\n",
    "Running the code cell below will preprocess all the CIFAR-10 data and save it to file. The code below also uses 10% of the training data for validation."
   ]
  },
  {
   "cell_type": "code",
   "execution_count": 6,
   "metadata": {
    "collapsed": true
   },
   "outputs": [],
   "source": [
    "\"\"\"\n",
    "DON'T MODIFY ANYTHING IN THIS CELL\n",
    "\"\"\"\n",
    "# Preprocess Training, Validation, and Testing Data\n",
    "helper.preprocess_and_save_data(cifar10_dataset_folder_path, normalize, one_hot_encode)"
   ]
  },
  {
   "cell_type": "markdown",
   "metadata": {},
   "source": [
    "# Check Point\n",
    "This is your first checkpoint.  If you ever decide to come back to this notebook or have to restart the notebook, you can start from here.  The preprocessed data has been saved to disk."
   ]
  },
  {
   "cell_type": "code",
   "execution_count": 7,
   "metadata": {
    "collapsed": true
   },
   "outputs": [],
   "source": [
    "\"\"\"\n",
    "DON'T MODIFY ANYTHING IN THIS CELL\n",
    "\"\"\"\n",
    "import pickle\n",
    "import problem_unittests as tests\n",
    "import helper\n",
    "\n",
    "# Load the Preprocessed Validation data\n",
    "valid_features, valid_labels = pickle.load(open('preprocess_validation.p', mode='rb'))"
   ]
  },
  {
   "cell_type": "markdown",
   "metadata": {},
   "source": [
    "## Build the network\n",
    "For the neural network, you'll build each layer into a function.  Most of the code you've seen has been outside of functions. To test your code more thoroughly, we require that you put each layer in a function.  This allows us to give you better feedback and test for simple mistakes using our unittests before you submit your project.\n",
    "\n",
    ">**Note:** If you're finding it hard to dedicate enough time for this course each week, we've provided a small shortcut to this part of the project. In the next couple of problems, you'll have the option to use classes from the [TensorFlow Layers](https://www.tensorflow.org/api_docs/python/tf/layers) or [TensorFlow Layers (contrib)](https://www.tensorflow.org/api_guides/python/contrib.layers) packages to build each layer, except the layers you build in the \"Convolutional and Max Pooling Layer\" section.  TF Layers is similar to Keras's and TFLearn's abstraction to layers, so it's easy to pickup.\n",
    "\n",
    ">However, if you would like to get the most out of this course, try to solve all the problems _without_ using anything from the TF Layers packages. You **can** still use classes from other packages that happen to have the same name as ones you find in TF Layers! For example, instead of using the TF Layers version of the `conv2d` class, [tf.layers.conv2d](https://www.tensorflow.org/api_docs/python/tf/layers/conv2d), you would want to use the TF Neural Network version of `conv2d`, [tf.nn.conv2d](https://www.tensorflow.org/api_docs/python/tf/nn/conv2d). \n",
    "\n",
    "Let's begin!\n",
    "\n",
    "### Input\n",
    "The neural network needs to read the image data, one-hot encoded labels, and dropout keep probability. Implement the following functions\n",
    "* Implement `neural_net_image_input`\n",
    " * Return a [TF Placeholder](https://www.tensorflow.org/api_docs/python/tf/placeholder)\n",
    " * Set the shape using `image_shape` with batch size set to `None`.\n",
    " * Name the TensorFlow placeholder \"x\" using the TensorFlow `name` parameter in the [TF Placeholder](https://www.tensorflow.org/api_docs/python/tf/placeholder).\n",
    "* Implement `neural_net_label_input`\n",
    " * Return a [TF Placeholder](https://www.tensorflow.org/api_docs/python/tf/placeholder)\n",
    " * Set the shape using `n_classes` with batch size set to `None`.\n",
    " * Name the TensorFlow placeholder \"y\" using the TensorFlow `name` parameter in the [TF Placeholder](https://www.tensorflow.org/api_docs/python/tf/placeholder).\n",
    "* Implement `neural_net_keep_prob_input`\n",
    " * Return a [TF Placeholder](https://www.tensorflow.org/api_docs/python/tf/placeholder) for dropout keep probability.\n",
    " * Name the TensorFlow placeholder \"keep_prob\" using the TensorFlow `name` parameter in the [TF Placeholder](https://www.tensorflow.org/api_docs/python/tf/placeholder).\n",
    "\n",
    "These names will be used at the end of the project to load your saved model.\n",
    "\n",
    "Note: `None` for shapes in TensorFlow allow for a dynamic size."
   ]
  },
  {
   "cell_type": "code",
   "execution_count": 8,
   "metadata": {},
   "outputs": [
    {
     "name": "stdout",
     "output_type": "stream",
     "text": [
      "Image Input Tests Passed.\n",
      "Label Input Tests Passed.\n",
      "Keep Prob Tests Passed.\n"
     ]
    }
   ],
   "source": [
    "import tensorflow as tf\n",
    "\n",
    "def neural_net_image_input(image_shape):\n",
    "    \"\"\"\n",
    "    Return a Tensor for a batch of image input\n",
    "    : image_shape: Shape of the images\n",
    "    : return: Tensor for image input.\n",
    "    \"\"\"\n",
    "    # TODO: Implement Function\n",
    "    #tf.palceholder(dtype, shape=None, name=None)\n",
    "    #Args:\n",
    "    #     dtype: the type of elements in the tensor to be fed\n",
    "    #     shape: The shape of the tensor to be fed. If shape is not specified, any shape can be fed\n",
    "    #     name: A name for the operation (this is optional)\n",
    "    return tf.placeholder(tf.float32, shape=(None, *image_shape), name='x')\n",
    "\n",
    "\n",
    "def neural_net_label_input(n_classes):\n",
    "    \"\"\"\n",
    "    Return a Tensor for a batch of label input\n",
    "    : n_classes: Number of classes\n",
    "    : return: Tensor for label input.\n",
    "    \"\"\"\n",
    "    # TODO: Implement Function\n",
    "    return tf.placeholder(tf.float32, shape=(None, n_classes), name='y')\n",
    "\n",
    "\n",
    "def neural_net_keep_prob_input():\n",
    "    \"\"\"\n",
    "    Return a Tensor for keep probability\n",
    "    : return: Tensor for keep probability.\n",
    "    \"\"\"\n",
    "    # TODO: Implement Function\n",
    "    return tf.placeholder(tf.float32, shape=(None), name='keep_prob')\n",
    "\n",
    "\n",
    "\"\"\"\n",
    "DON'T MODIFY ANYTHING IN THIS CELL THAT IS BELOW THIS LINE\n",
    "\"\"\"\n",
    "tf.reset_default_graph()\n",
    "tests.test_nn_image_inputs(neural_net_image_input)\n",
    "tests.test_nn_label_inputs(neural_net_label_input)\n",
    "tests.test_nn_keep_prob_inputs(neural_net_keep_prob_input)"
   ]
  },
  {
   "cell_type": "markdown",
   "metadata": {},
   "source": [
    "### Convolution and Max Pooling Layer\n",
    "Convolution layers have a lot of success with images. For this code cell, you should implement the function `conv2d_maxpool` to apply convolution then max pooling:\n",
    "* Create the weight and bias using `conv_ksize`, `conv_num_outputs` and the shape of `x_tensor`.\n",
    "* Apply a convolution to `x_tensor` using weight and `conv_strides`.\n",
    " * We recommend you use same padding, but you're welcome to use any padding.\n",
    "* Add bias\n",
    "* Add a nonlinear activation to the convolution.\n",
    "* Apply Max Pooling using `pool_ksize` and `pool_strides`.\n",
    " * We recommend you use same padding, but you're welcome to use any padding.\n",
    "\n",
    "**Note:** You **can't** use [TensorFlow Layers](https://www.tensorflow.org/api_docs/python/tf/layers) or [TensorFlow Layers (contrib)](https://www.tensorflow.org/api_guides/python/contrib.layers) for **this** layer, but you can still use TensorFlow's [Neural Network](https://www.tensorflow.org/api_docs/python/tf/nn) package. You may still use the shortcut option for all the **other** layers."
   ]
  },
  {
   "cell_type": "code",
   "execution_count": 9,
   "metadata": {},
   "outputs": [
    {
     "name": "stdout",
     "output_type": "stream",
     "text": [
      "Tests Passed\n"
     ]
    }
   ],
   "source": [
    "def conv2d_maxpool(x_tensor, conv_num_outputs, conv_ksize, conv_strides, pool_ksize, pool_strides):\n",
    "    \"\"\"\n",
    "    Apply convolution then max pooling to x_tensor\n",
    "    :param x_tensor: TensorFlow Tensor\n",
    "    :param conv_num_outputs: Number of outputs for the convolutional layer\n",
    "    :param conv_ksize: kernal size 2-D Tuple for the convolutional layer\n",
    "    :param conv_strides: Stride 2-D Tuple for convolution\n",
    "    :param pool_ksize: kernal size 2-D Tuple for pool\n",
    "    :param pool_strides: Stride 2-D Tuple for pool\n",
    "    : return: A tensor that represents convolution and max pooling of x_tensor\n",
    "    \"\"\"\n",
    "    \n",
    "    # TODO: Implement Function\n",
    "    \n",
    "    depth = x_tensor.get_shape().as_list()[3]\n",
    "    weight = tf.Variable(tf.truncated_normal([*conv_ksize,depth,conv_num_outputs], mean=.0, stddev=.01))\n",
    "    bias = tf.Variable(tf.zeros(conv_num_outputs))\n",
    "    padding = 'SAME'\n",
    "    \n",
    "    conv = tf.nn.conv2d(x_tensor, weight, padding=padding, strides=[1,*conv_strides,1], use_cudnn_on_gpu=True)\n",
    "    conv = tf.nn.bias_add(conv, bias)\n",
    "    conv = tf.nn.relu(conv)\n",
    "    \n",
    "    return tf.nn.max_pool(value=conv, ksize=[1,*pool_ksize,1], strides=[1,*pool_strides,1], padding=padding, name='max_pool')\n",
    "\n",
    "\n",
    "\n",
    "\"\"\"\n",
    "DON'T MODIFY ANYTHING IN THIS CELL THAT IS BELOW THIS LINE\n",
    "\"\"\"\n",
    "tests.test_con_pool(conv2d_maxpool)"
   ]
  },
  {
   "cell_type": "markdown",
   "metadata": {},
   "source": [
    "### Flatten Layer\n",
    "Implement the `flatten` function to change the dimension of `x_tensor` from a 4-D tensor to a 2-D tensor.  The output should be the shape (*Batch Size*, *Flattened Image Size*). Shortcut option: you can use classes from the [TensorFlow Layers](https://www.tensorflow.org/api_docs/python/tf/layers) or [TensorFlow Layers (contrib)](https://www.tensorflow.org/api_guides/python/contrib.layers) packages for this layer. For more of a challenge, only use other TensorFlow packages."
   ]
  },
  {
   "cell_type": "code",
   "execution_count": 10,
   "metadata": {},
   "outputs": [
    {
     "name": "stdout",
     "output_type": "stream",
     "text": [
      "Tests Passed\n"
     ]
    }
   ],
   "source": [
    "def flatten(x_tensor):\n",
    "    \"\"\"\n",
    "    Flatten x_tensor to (Batch Size, Flattened Image Size)\n",
    "    : x_tensor: A tensor of size (Batch Size, ...), where ... are the image dimensions.\n",
    "    : return: A tensor of size (Batch Size, Flattened Image Size).\n",
    "    \"\"\"\n",
    "    # TODO: Implement Function\n",
    "    \n",
    "    return tf.contrib.layers.flatten(x_tensor)\n",
    "    \n",
    "   \n",
    "\n",
    "\n",
    "\"\"\"\n",
    "DON'T MODIFY ANYTHING IN THIS CELL THAT IS BELOW THIS LINE\n",
    "\"\"\"\n",
    "tests.test_flatten(flatten)"
   ]
  },
  {
   "cell_type": "markdown",
   "metadata": {},
   "source": [
    "### Fully-Connected Layer\n",
    "Implement the `fully_conn` function to apply a fully connected layer to `x_tensor` with the shape (*Batch Size*, *num_outputs*). Shortcut option: you can use classes from the [TensorFlow Layers](https://www.tensorflow.org/api_docs/python/tf/layers) or [TensorFlow Layers (contrib)](https://www.tensorflow.org/api_guides/python/contrib.layers) packages for this layer. For more of a challenge, only use other TensorFlow packages."
   ]
  },
  {
   "cell_type": "code",
   "execution_count": 11,
   "metadata": {},
   "outputs": [
    {
     "name": "stdout",
     "output_type": "stream",
     "text": [
      "Tests Passed\n"
     ]
    }
   ],
   "source": [
    "def fully_conn(x_tensor, num_outputs):\n",
    "    \"\"\"\n",
    "    Apply a fully connected layer to x_tensor using weight and bias\n",
    "    : x_tensor: A 2-D tensor where the first dimension is batch size.\n",
    "    : num_outputs: The number of output that the new tensor should be.\n",
    "    : return: A 2-D tensor where the second dimension is num_outputs.\n",
    "    \"\"\"\n",
    "    # TODO: Implement Function\n",
    "    batch_size = x_tensor.get_shape().as_list()[-1]\n",
    "    weights = tf.Variable(tf.truncated_normal([batch_size, num_outputs], mean=.0, stddev=.01), name=\"weights_fully_conn\")\n",
    "    bias = tf.Variable(tf.zeros([num_outputs]), name=\"bias_fully_conn\")\n",
    "    linear = tf.nn.bias_add(tf.matmul(x_tensor, weights), bias)\n",
    "    return tf.nn.relu(linear)\n",
    "\n",
    "\n",
    "\"\"\"\n",
    "DON'T MODIFY ANYTHING IN THIS CELL THAT IS BELOW THIS LINE\n",
    "\"\"\"\n",
    "tests.test_fully_conn(fully_conn)"
   ]
  },
  {
   "cell_type": "markdown",
   "metadata": {},
   "source": [
    "### Output Layer\n",
    "Implement the `output` function to apply a fully connected layer to `x_tensor` with the shape (*Batch Size*, *num_outputs*). Shortcut option: you can use classes from the [TensorFlow Layers](https://www.tensorflow.org/api_docs/python/tf/layers) or [TensorFlow Layers (contrib)](https://www.tensorflow.org/api_guides/python/contrib.layers) packages for this layer. For more of a challenge, only use other TensorFlow packages.\n",
    "\n",
    "**Note:** Activation, softmax, or cross entropy should **not** be applied to this."
   ]
  },
  {
   "cell_type": "code",
   "execution_count": 12,
   "metadata": {},
   "outputs": [
    {
     "name": "stdout",
     "output_type": "stream",
     "text": [
      "Tests Passed\n"
     ]
    }
   ],
   "source": [
    "def output(x_tensor, num_outputs):\n",
    "    \"\"\"\n",
    "    Apply a output layer to x_tensor using weight and bias\n",
    "    : x_tensor: A 2-D tensor where the first dimension is batch size.\n",
    "    : num_outputs: The number of output that the new tensor should be.\n",
    "    : return: A 2-D tensor where the second dimension is num_outputs.\n",
    "    \"\"\"\n",
    "    # TODO: Implement Function\n",
    "    \n",
    "    depth = x_tensor.get_shape().as_list()[-1]\n",
    "    weights = tf.Variable(tf.random_normal([depth, num_outputs], mean=.0, stddev=.01), name=\"weights_fully_conn\")\n",
    "    bias = tf.Variable(tf.zeros([num_outputs]))\n",
    "    output_layer = tf.nn.bias_add(tf.matmul(x_tensor, weights), bias)\n",
    "    return output_layer\n",
    "\n",
    "\"\"\"\n",
    "DON'T MODIFY ANYTHING IN THIS CELL THAT IS BELOW THIS LINE\n",
    "\"\"\"\n",
    "tests.test_output(output)"
   ]
  },
  {
   "cell_type": "markdown",
   "metadata": {},
   "source": [
    "### Create Convolutional Model\n",
    "Implement the function `conv_net` to create a convolutional neural network model. The function takes in a batch of images, `x`, and outputs logits.  Use the layers you created above to create this model:\n",
    "\n",
    "* Apply 1, 2, or 3 Convolution and Max Pool layers\n",
    "* Apply a Flatten Layer\n",
    "* Apply 1, 2, or 3 Fully Connected Layers\n",
    "* Apply an Output Layer\n",
    "* Return the output\n",
    "* Apply [TensorFlow's Dropout](https://www.tensorflow.org/api_docs/python/tf/nn/dropout) to one or more layers in the model using `keep_prob`. "
   ]
  },
  {
   "cell_type": "code",
   "execution_count": 13,
   "metadata": {},
   "outputs": [
    {
     "name": "stdout",
     "output_type": "stream",
     "text": [
      "Neural Network Built!\n"
     ]
    }
   ],
   "source": [
    "def conv_net(x, keep_prob):\n",
    "    \"\"\"\n",
    "    Create a convolutional neural network model\n",
    "    : x: Placeholder tensor that holds image data.\n",
    "    : keep_prob: Placeholder tensor that hold dropout keep probability.\n",
    "    : return: Tensor that represents logits\n",
    "    \"\"\"\n",
    "    # TODO: Apply 1, 2, or 3 Convolution and Max Pool layers\n",
    "    # Played around with different number of outputs, kernel size and stride\n",
    "   \n",
    "    \n",
    "    conv_num_outputs = [64,128,256]\n",
    "\n",
    "    conv_strides = [(2,2), (2,2), (2,2)]\n",
    "    conv_ksize = [(4,4), (6,6), (8,8)]\n",
    "\n",
    "    pool_ksize = (4,4)\n",
    "    pool_strides = (2,2)\n",
    "    \n",
    "    conv_layer_1 = conv2d_maxpool(x, conv_num_outputs[0], conv_ksize[0], conv_strides[0], pool_ksize, pool_strides)\n",
    "\n",
    "    conv_layer_2 = conv2d_maxpool(conv_layer_1,conv_num_outputs[1], conv_ksize[1], conv_strides[1], pool_ksize, pool_strides)\n",
    "\n",
    "    conv_layer_2 = tf.nn.dropout(conv_layer_2, keep_prob)\n",
    "\n",
    "    \n",
    "    # TODO: Apply a Flatten Layer\n",
    "    # Function Definition from Above:\n",
    "    \n",
    "    x_tensor = flatten(conv_layer_2)\n",
    "\n",
    "    # TODO: Apply 1, 2, or 3 Fully Connected Layers\n",
    "    # Play around with different number of outputs\n",
    "    # Function Definition from Above:\n",
    "   \n",
    "    \n",
    "    num_outputs = (256, 128)\n",
    "    fully_conn_1 = fully_conn(x_tensor, num_outputs[0])\n",
    "    fully_conn_1 = tf.nn.dropout(fully_conn_1, keep_prob)\n",
    "    fully_conn_2 = fully_conn(fully_conn_1, num_outputs[1])\n",
    "\n",
    "    \n",
    "    # TODO: Apply an Output Layer\n",
    "    # Set this to the number of classes\n",
    "    # Function Definition from Above:\n",
    "    \n",
    "    \n",
    "    final_out = output(fully_conn_2, 10)\n",
    "    \n",
    "    # TODO: return output\n",
    "    return final_out\n",
    "\n",
    "\n",
    "\"\"\"\n",
    "DON'T MODIFY ANYTHING IN THIS CELL THAT IS BELOW THIS LINE\n",
    "\"\"\"\n",
    "\n",
    "##############################\n",
    "## Build the Neural Network ##\n",
    "##############################\n",
    "\n",
    "# Remove previous weights, bias, inputs, etc..\n",
    "tf.reset_default_graph()\n",
    "\n",
    "# Inputs\n",
    "x = neural_net_image_input((32, 32, 3))\n",
    "y = neural_net_label_input(10)\n",
    "keep_prob = neural_net_keep_prob_input()\n",
    "\n",
    "# Model\n",
    "logits = conv_net(x, keep_prob)\n",
    "\n",
    "# Name logits Tensor, so that is can be loaded from disk after training\n",
    "logits = tf.identity(logits, name='logits')\n",
    "\n",
    "# Loss and Optimizer\n",
    "cost = tf.reduce_mean(tf.nn.softmax_cross_entropy_with_logits(logits=logits, labels=y))\n",
    "optimizer = tf.train.AdamOptimizer().minimize(cost)\n",
    "\n",
    "# Accuracy\n",
    "correct_pred = tf.equal(tf.argmax(logits, 1), tf.argmax(y, 1))\n",
    "accuracy = tf.reduce_mean(tf.cast(correct_pred, tf.float32), name='accuracy')\n",
    "\n",
    "tests.test_conv_net(conv_net)"
   ]
  },
  {
   "cell_type": "markdown",
   "metadata": {},
   "source": [
    "## Train the Neural Network\n",
    "### Single Optimization\n",
    "Implement the function `train_neural_network` to do a single optimization.  The optimization should use `optimizer` to optimize in `session` with a `feed_dict` of the following:\n",
    "* `x` for image input\n",
    "* `y` for labels\n",
    "* `keep_prob` for keep probability for dropout\n",
    "\n",
    "This function will be called for each batch, so `tf.global_variables_initializer()` has already been called.\n",
    "\n",
    "Note: Nothing needs to be returned. This function is only optimizing the neural network."
   ]
  },
  {
   "cell_type": "code",
   "execution_count": 69,
   "metadata": {},
   "outputs": [
    {
     "name": "stdout",
     "output_type": "stream",
     "text": [
      "Tests Passed\n"
     ]
    }
   ],
   "source": [
    "def train_neural_network(session, optimizer, keep_probability, feature_batch, label_batch):\n",
    "    \"\"\"\n",
    "    Optimize the session on a batch of images and labels\n",
    "    : session: Current TensorFlow session\n",
    "    : optimizer: TensorFlow optimizer function\n",
    "    : keep_probability: keep probability\n",
    "    : feature_batch: Batch of Numpy image data\n",
    "    : label_batch: Batch of Numpy label data\n",
    "    \"\"\"\n",
    "    # TODO: Implement Function\n",
    "    session.run(optimizer, feed_dict = {x: feature_batch, \n",
    "                                       y: label_batch, \n",
    "                                       keep_prob: keep_probability})\n",
    "\n",
    "\n",
    "\"\"\"\n",
    "DON'T MODIFY ANYTHING IN THIS CELL THAT IS BELOW THIS LINE\n",
    "\"\"\"\n",
    "tests.test_train_nn(train_neural_network)"
   ]
  },
  {
   "cell_type": "markdown",
   "metadata": {},
   "source": [
    "### Show Stats\n",
    "Implement the function `print_stats` to print loss and validation accuracy.  Use the global variables `valid_features` and `valid_labels` to calculate validation accuracy.  Use a keep probability of `1.0` to calculate the loss and validation accuracy."
   ]
  },
  {
   "cell_type": "code",
   "execution_count": 70,
   "metadata": {
    "collapsed": true
   },
   "outputs": [],
   "source": [
    "def print_stats(session, feature_batch, label_batch, cost, accuracy):\n",
    "    \"\"\"\n",
    "    Print information about loss and validation accuracy\n",
    "    : session: Current TensorFlow session\n",
    "    : feature_batch: Batch of Numpy image data\n",
    "    : label_batch: Batch of Numpy label data\n",
    "    : cost: TensorFlow cost function\n",
    "    : accuracy: TensorFlow accuracy function\n",
    "    \"\"\"\n",
    "    # TODO: Implement Function\n",
    "    cost = sess.run(cost, feed_dict={x: feature_batch, y: label_batch, keep_prob: 1.})\n",
    "    \n",
    "    acc = sess.run(accuracy, feed_dict={x: valid_features, y: valid_labels, keep_prob: 1.})\n",
    "    \n",
    "    print('Loss: ', cost, ' Accuracy: ', acc)\n",
    "    \n",
    "    pass"
   ]
  },
  {
   "cell_type": "markdown",
   "metadata": {},
   "source": [
    "### Hyperparameters\n",
    "Tune the following parameters:\n",
    "* Set `epochs` to the number of iterations until the network stops learning or start overfitting\n",
    "* Set `batch_size` to the highest number that your machine has memory for.  Most people set them to common sizes of memory:\n",
    " * 64\n",
    " * 128\n",
    " * 256\n",
    " * ...\n",
    "* Set `keep_probability` to the probability of keeping a node using dropout"
   ]
  },
  {
   "cell_type": "code",
   "execution_count": 71,
   "metadata": {
    "collapsed": true
   },
   "outputs": [],
   "source": [
    "# TODO: Tune Parameters\n",
    "epochs = 45\n",
    "batch_size = 512\n",
    "keep_probability = 0.7"
   ]
  },
  {
   "cell_type": "markdown",
   "metadata": {},
   "source": [
    "### Train on a Single CIFAR-10 Batch\n",
    "Instead of training the neural network on all the CIFAR-10 batches of data, let's use a single batch. This should save time while you iterate on the model to get a better accuracy.  Once the final validation accuracy is 50% or greater, run the model on all the data in the next section."
   ]
  },
  {
   "cell_type": "code",
   "execution_count": 72,
   "metadata": {},
   "outputs": [
    {
     "name": "stdout",
     "output_type": "stream",
     "text": [
      "Checking the Training on a Single Batch...\n",
      "Epoch  1, CIFAR-10 Batch 1:  Loss:  2.28938  Accuracy:  0.1312\n",
      "Epoch  2, CIFAR-10 Batch 1:  Loss:  2.1894  Accuracy:  0.178\n",
      "Epoch  3, CIFAR-10 Batch 1:  Loss:  2.06405  Accuracy:  0.2006\n",
      "Epoch  4, CIFAR-10 Batch 1:  Loss:  2.03017  Accuracy:  0.2072\n",
      "Epoch  5, CIFAR-10 Batch 1:  Loss:  2.0048  Accuracy:  0.216\n",
      "Epoch  6, CIFAR-10 Batch 1:  Loss:  1.99344  Accuracy:  0.2258\n",
      "Epoch  7, CIFAR-10 Batch 1:  Loss:  1.94436  Accuracy:  0.267\n",
      "Epoch  8, CIFAR-10 Batch 1:  Loss:  1.89175  Accuracy:  0.2756\n",
      "Epoch  9, CIFAR-10 Batch 1:  Loss:  1.82947  Accuracy:  0.3022\n",
      "Epoch 10, CIFAR-10 Batch 1:  Loss:  1.79781  Accuracy:  0.3206\n",
      "Epoch 11, CIFAR-10 Batch 1:  Loss:  1.75956  Accuracy:  0.3292\n",
      "Epoch 12, CIFAR-10 Batch 1:  Loss:  1.71734  Accuracy:  0.3466\n",
      "Epoch 13, CIFAR-10 Batch 1:  Loss:  1.67229  Accuracy:  0.3608\n",
      "Epoch 14, CIFAR-10 Batch 1:  Loss:  1.61148  Accuracy:  0.377\n",
      "Epoch 15, CIFAR-10 Batch 1:  Loss:  1.55946  Accuracy:  0.3954\n",
      "Epoch 16, CIFAR-10 Batch 1:  Loss:  1.51637  Accuracy:  0.4006\n",
      "Epoch 17, CIFAR-10 Batch 1:  Loss:  1.49374  Accuracy:  0.4084\n",
      "Epoch 18, CIFAR-10 Batch 1:  Loss:  1.46539  Accuracy:  0.4184\n",
      "Epoch 19, CIFAR-10 Batch 1:  Loss:  1.42628  Accuracy:  0.4244\n",
      "Epoch 20, CIFAR-10 Batch 1:  Loss:  1.39344  Accuracy:  0.4392\n",
      "Epoch 21, CIFAR-10 Batch 1:  Loss:  1.38102  Accuracy:  0.4292\n",
      "Epoch 22, CIFAR-10 Batch 1:  Loss:  1.34689  Accuracy:  0.4368\n",
      "Epoch 23, CIFAR-10 Batch 1:  Loss:  1.32543  Accuracy:  0.4458\n",
      "Epoch 24, CIFAR-10 Batch 1:  Loss:  1.26645  Accuracy:  0.4616\n",
      "Epoch 25, CIFAR-10 Batch 1:  Loss:  1.27704  Accuracy:  0.4514\n",
      "Epoch 26, CIFAR-10 Batch 1:  Loss:  1.22755  Accuracy:  0.466\n",
      "Epoch 27, CIFAR-10 Batch 1:  Loss:  1.21619  Accuracy:  0.454\n",
      "Epoch 28, CIFAR-10 Batch 1:  Loss:  1.17493  Accuracy:  0.4668\n",
      "Epoch 29, CIFAR-10 Batch 1:  Loss:  1.06976  Accuracy:  0.4898\n",
      "Epoch 30, CIFAR-10 Batch 1:  Loss:  1.06079  Accuracy:  0.49\n",
      "Epoch 31, CIFAR-10 Batch 1:  Loss:  1.07097  Accuracy:  0.4804\n",
      "Epoch 32, CIFAR-10 Batch 1:  Loss:  0.99869  Accuracy:  0.5018\n",
      "Epoch 33, CIFAR-10 Batch 1:  Loss:  0.942886  Accuracy:  0.5154\n",
      "Epoch 34, CIFAR-10 Batch 1:  Loss:  0.889427  Accuracy:  0.5152\n",
      "Epoch 35, CIFAR-10 Batch 1:  Loss:  0.850796  Accuracy:  0.5196\n",
      "Epoch 36, CIFAR-10 Batch 1:  Loss:  0.810828  Accuracy:  0.5326\n",
      "Epoch 37, CIFAR-10 Batch 1:  Loss:  0.761751  Accuracy:  0.5356\n",
      "Epoch 38, CIFAR-10 Batch 1:  Loss:  0.738546  Accuracy:  0.5314\n",
      "Epoch 39, CIFAR-10 Batch 1:  Loss:  0.792494  Accuracy:  0.5238\n",
      "Epoch 40, CIFAR-10 Batch 1:  Loss:  0.874077  Accuracy:  0.4874\n",
      "Epoch 41, CIFAR-10 Batch 1:  Loss:  0.688936  Accuracy:  0.5388\n",
      "Epoch 42, CIFAR-10 Batch 1:  Loss:  0.685438  Accuracy:  0.5234\n",
      "Epoch 43, CIFAR-10 Batch 1:  Loss:  0.65366  Accuracy:  0.5418\n",
      "Epoch 44, CIFAR-10 Batch 1:  Loss:  0.610276  Accuracy:  0.5332\n",
      "Epoch 45, CIFAR-10 Batch 1:  Loss:  0.611809  Accuracy:  0.5366\n"
     ]
    }
   ],
   "source": [
    "\"\"\"\n",
    "DON'T MODIFY ANYTHING IN THIS CELL\n",
    "\"\"\"\n",
    "print('Checking the Training on a Single Batch...')\n",
    "with tf.Session() as sess:\n",
    "    # Initializing the variables\n",
    "    sess.run(tf.global_variables_initializer())\n",
    "    \n",
    "    # Training cycle\n",
    "    for epoch in range(epochs):\n",
    "        batch_i = 1\n",
    "        for batch_features, batch_labels in helper.load_preprocess_training_batch(batch_i, batch_size):\n",
    "            train_neural_network(sess, optimizer, keep_probability, batch_features, batch_labels)\n",
    "        print('Epoch {:>2}, CIFAR-10 Batch {}:  '.format(epoch + 1, batch_i), end='')\n",
    "        print_stats(sess, batch_features, batch_labels, cost, accuracy)"
   ]
  },
  {
   "cell_type": "markdown",
   "metadata": {},
   "source": [
    "### Fully Train the Model\n",
    "Now that you got a good accuracy with a single CIFAR-10 batch, try it with all five batches."
   ]
  },
  {
   "cell_type": "code",
   "execution_count": 74,
   "metadata": {},
   "outputs": [
    {
     "name": "stdout",
     "output_type": "stream",
     "text": [
      "Training...\n",
      "Epoch  1, CIFAR-10 Batch 1:  Loss:  2.29527  Accuracy:  0.1158\n",
      "Epoch  1, CIFAR-10 Batch 2:  Loss:  2.16399  Accuracy:  0.176\n",
      "Epoch  1, CIFAR-10 Batch 3:  Loss:  2.06285  Accuracy:  0.1786\n",
      "Epoch  1, CIFAR-10 Batch 4:  Loss:  1.96196  Accuracy:  0.197\n",
      "Epoch  1, CIFAR-10 Batch 5:  Loss:  1.95442  Accuracy:  0.2054\n",
      "Epoch  2, CIFAR-10 Batch 1:  Loss:  2.01329  Accuracy:  0.211\n",
      "Epoch  2, CIFAR-10 Batch 2:  Loss:  1.90452  Accuracy:  0.2274\n",
      "Epoch  2, CIFAR-10 Batch 3:  Loss:  1.79557  Accuracy:  0.2494\n",
      "Epoch  2, CIFAR-10 Batch 4:  Loss:  1.76882  Accuracy:  0.2694\n",
      "Epoch  2, CIFAR-10 Batch 5:  Loss:  1.80719  Accuracy:  0.2832\n",
      "Epoch  3, CIFAR-10 Batch 1:  Loss:  1.86441  Accuracy:  0.3026\n",
      "Epoch  3, CIFAR-10 Batch 2:  Loss:  1.70297  Accuracy:  0.3316\n",
      "Epoch  3, CIFAR-10 Batch 3:  Loss:  1.55231  Accuracy:  0.343\n",
      "Epoch  3, CIFAR-10 Batch 4:  Loss:  1.5494  Accuracy:  0.372\n",
      "Epoch  3, CIFAR-10 Batch 5:  Loss:  1.6009  Accuracy:  0.364\n",
      "Epoch  4, CIFAR-10 Batch 1:  Loss:  1.65064  Accuracy:  0.3786\n",
      "Epoch  4, CIFAR-10 Batch 2:  Loss:  1.6152  Accuracy:  0.387\n",
      "Epoch  4, CIFAR-10 Batch 3:  Loss:  1.46678  Accuracy:  0.3906\n",
      "Epoch  4, CIFAR-10 Batch 4:  Loss:  1.45109  Accuracy:  0.3958\n",
      "Epoch  4, CIFAR-10 Batch 5:  Loss:  1.492  Accuracy:  0.407\n",
      "Epoch  5, CIFAR-10 Batch 1:  Loss:  1.56064  Accuracy:  0.414\n",
      "Epoch  5, CIFAR-10 Batch 2:  Loss:  1.50431  Accuracy:  0.4134\n",
      "Epoch  5, CIFAR-10 Batch 3:  Loss:  1.32589  Accuracy:  0.4426\n",
      "Epoch  5, CIFAR-10 Batch 4:  Loss:  1.34462  Accuracy:  0.4522\n",
      "Epoch  5, CIFAR-10 Batch 5:  Loss:  1.3785  Accuracy:  0.455\n",
      "Epoch  6, CIFAR-10 Batch 1:  Loss:  1.45349  Accuracy:  0.4652\n",
      "Epoch  6, CIFAR-10 Batch 2:  Loss:  1.34676  Accuracy:  0.4634\n",
      "Epoch  6, CIFAR-10 Batch 3:  Loss:  1.22505  Accuracy:  0.4908\n",
      "Epoch  6, CIFAR-10 Batch 4:  Loss:  1.24083  Accuracy:  0.4986\n",
      "Epoch  6, CIFAR-10 Batch 5:  Loss:  1.27718  Accuracy:  0.4944\n",
      "Epoch  7, CIFAR-10 Batch 1:  Loss:  1.35558  Accuracy:  0.5102\n",
      "Epoch  7, CIFAR-10 Batch 2:  Loss:  1.24376  Accuracy:  0.5072\n",
      "Epoch  7, CIFAR-10 Batch 3:  Loss:  1.16595  Accuracy:  0.5268\n",
      "Epoch  7, CIFAR-10 Batch 4:  Loss:  1.17323  Accuracy:  0.524\n",
      "Epoch  7, CIFAR-10 Batch 5:  Loss:  1.22616  Accuracy:  0.5198\n",
      "Epoch  8, CIFAR-10 Batch 1:  Loss:  1.27769  Accuracy:  0.5358\n",
      "Epoch  8, CIFAR-10 Batch 2:  Loss:  1.16992  Accuracy:  0.5512\n",
      "Epoch  8, CIFAR-10 Batch 3:  Loss:  1.09688  Accuracy:  0.5532\n",
      "Epoch  8, CIFAR-10 Batch 4:  Loss:  1.09806  Accuracy:  0.5518\n",
      "Epoch  8, CIFAR-10 Batch 5:  Loss:  1.11242  Accuracy:  0.5612\n",
      "Epoch  9, CIFAR-10 Batch 1:  Loss:  1.24041  Accuracy:  0.5484\n",
      "Epoch  9, CIFAR-10 Batch 2:  Loss:  1.12604  Accuracy:  0.5698\n",
      "Epoch  9, CIFAR-10 Batch 3:  Loss:  1.03018  Accuracy:  0.5746\n",
      "Epoch  9, CIFAR-10 Batch 4:  Loss:  1.01771  Accuracy:  0.5752\n",
      "Epoch  9, CIFAR-10 Batch 5:  Loss:  1.08131  Accuracy:  0.5656\n",
      "Epoch 10, CIFAR-10 Batch 1:  Loss:  1.16969  Accuracy:  0.5724\n",
      "Epoch 10, CIFAR-10 Batch 2:  Loss:  1.07743  Accuracy:  0.5744\n",
      "Epoch 10, CIFAR-10 Batch 3:  Loss:  1.01098  Accuracy:  0.5804\n",
      "Epoch 10, CIFAR-10 Batch 4:  Loss:  0.96801  Accuracy:  0.5792\n",
      "Epoch 10, CIFAR-10 Batch 5:  Loss:  1.04491  Accuracy:  0.5812\n",
      "Epoch 11, CIFAR-10 Batch 1:  Loss:  1.08477  Accuracy:  0.5878\n",
      "Epoch 11, CIFAR-10 Batch 2:  Loss:  1.0073  Accuracy:  0.5898\n",
      "Epoch 11, CIFAR-10 Batch 3:  Loss:  0.954794  Accuracy:  0.592\n",
      "Epoch 11, CIFAR-10 Batch 4:  Loss:  0.916238  Accuracy:  0.589\n",
      "Epoch 11, CIFAR-10 Batch 5:  Loss:  0.960088  Accuracy:  0.5968\n",
      "Epoch 12, CIFAR-10 Batch 1:  Loss:  1.0468  Accuracy:  0.5964\n",
      "Epoch 12, CIFAR-10 Batch 2:  Loss:  0.970995  Accuracy:  0.5866\n",
      "Epoch 12, CIFAR-10 Batch 3:  Loss:  0.908126  Accuracy:  0.5972\n",
      "Epoch 12, CIFAR-10 Batch 4:  Loss:  0.881974  Accuracy:  0.5934\n",
      "Epoch 12, CIFAR-10 Batch 5:  Loss:  0.897442  Accuracy:  0.6064\n",
      "Epoch 13, CIFAR-10 Batch 1:  Loss:  1.02067  Accuracy:  0.5922\n",
      "Epoch 13, CIFAR-10 Batch 2:  Loss:  0.937849  Accuracy:  0.6006\n",
      "Epoch 13, CIFAR-10 Batch 3:  Loss:  0.868908  Accuracy:  0.61\n",
      "Epoch 13, CIFAR-10 Batch 4:  Loss:  0.829881  Accuracy:  0.601\n",
      "Epoch 13, CIFAR-10 Batch 5:  Loss:  0.834997  Accuracy:  0.6222\n",
      "Epoch 14, CIFAR-10 Batch 1:  Loss:  0.970345  Accuracy:  0.6014\n",
      "Epoch 14, CIFAR-10 Batch 2:  Loss:  0.894358  Accuracy:  0.6124\n",
      "Epoch 14, CIFAR-10 Batch 3:  Loss:  0.817569  Accuracy:  0.6288\n",
      "Epoch 14, CIFAR-10 Batch 4:  Loss:  0.779578  Accuracy:  0.619\n",
      "Epoch 14, CIFAR-10 Batch 5:  Loss:  0.791879  Accuracy:  0.6272\n",
      "Epoch 15, CIFAR-10 Batch 1:  Loss:  0.929773  Accuracy:  0.617\n",
      "Epoch 15, CIFAR-10 Batch 2:  Loss:  0.869448  Accuracy:  0.6178\n",
      "Epoch 15, CIFAR-10 Batch 3:  Loss:  0.807442  Accuracy:  0.6274\n",
      "Epoch 15, CIFAR-10 Batch 4:  Loss:  0.73189  Accuracy:  0.6356\n",
      "Epoch 15, CIFAR-10 Batch 5:  Loss:  0.766007  Accuracy:  0.637\n",
      "Epoch 16, CIFAR-10 Batch 1:  Loss:  0.872546  Accuracy:  0.6234\n",
      "Epoch 16, CIFAR-10 Batch 2:  Loss:  0.818239  Accuracy:  0.6332\n",
      "Epoch 16, CIFAR-10 Batch 3:  Loss:  0.765029  Accuracy:  0.6346\n",
      "Epoch 16, CIFAR-10 Batch 4:  Loss:  0.689723  Accuracy:  0.6348\n",
      "Epoch 16, CIFAR-10 Batch 5:  Loss:  0.746467  Accuracy:  0.6414\n",
      "Epoch 17, CIFAR-10 Batch 1:  Loss:  0.837085  Accuracy:  0.6434\n",
      "Epoch 17, CIFAR-10 Batch 2:  Loss:  0.862927  Accuracy:  0.6062\n",
      "Epoch 17, CIFAR-10 Batch 3:  Loss:  0.718737  Accuracy:  0.6402\n",
      "Epoch 17, CIFAR-10 Batch 4:  Loss:  0.679711  Accuracy:  0.644\n",
      "Epoch 17, CIFAR-10 Batch 5:  Loss:  0.710553  Accuracy:  0.645\n",
      "Epoch 18, CIFAR-10 Batch 1:  Loss:  0.818063  Accuracy:  0.6446\n",
      "Epoch 18, CIFAR-10 Batch 2:  Loss:  0.756861  Accuracy:  0.6404\n",
      "Epoch 18, CIFAR-10 Batch 3:  Loss:  0.686448  Accuracy:  0.6502\n",
      "Epoch 18, CIFAR-10 Batch 4:  Loss:  0.646705  Accuracy:  0.6348\n",
      "Epoch 18, CIFAR-10 Batch 5:  Loss:  0.678934  Accuracy:  0.6514\n",
      "Epoch 19, CIFAR-10 Batch 1:  Loss:  0.765091  Accuracy:  0.6532\n",
      "Epoch 19, CIFAR-10 Batch 2:  Loss:  0.730886  Accuracy:  0.6284\n",
      "Epoch 19, CIFAR-10 Batch 3:  Loss:  0.642523  Accuracy:  0.6524\n",
      "Epoch 19, CIFAR-10 Batch 4:  Loss:  0.62233  Accuracy:  0.6502\n",
      "Epoch 19, CIFAR-10 Batch 5:  Loss:  0.674051  Accuracy:  0.6454\n",
      "Epoch 20, CIFAR-10 Batch 1:  Loss:  0.709969  Accuracy:  0.658\n",
      "Epoch 20, CIFAR-10 Batch 2:  Loss:  0.706228  Accuracy:  0.6376\n",
      "Epoch 20, CIFAR-10 Batch 3:  Loss:  0.620987  Accuracy:  0.6632\n",
      "Epoch 20, CIFAR-10 Batch 4:  Loss:  0.56152  Accuracy:  0.6576\n",
      "Epoch 20, CIFAR-10 Batch 5:  Loss:  0.63595  Accuracy:  0.6538\n",
      "Epoch 21, CIFAR-10 Batch 1:  Loss:  0.70503  Accuracy:  0.6528\n",
      "Epoch 21, CIFAR-10 Batch 2:  Loss:  0.68349  Accuracy:  0.6432\n",
      "Epoch 21, CIFAR-10 Batch 3:  Loss:  0.604142  Accuracy:  0.6628\n",
      "Epoch 21, CIFAR-10 Batch 4:  Loss:  0.533855  Accuracy:  0.6618\n",
      "Epoch 21, CIFAR-10 Batch 5:  Loss:  0.596796  Accuracy:  0.664\n",
      "Epoch 22, CIFAR-10 Batch 1:  Loss:  0.692371  Accuracy:  0.654\n",
      "Epoch 22, CIFAR-10 Batch 2:  Loss:  0.67764  Accuracy:  0.6438\n",
      "Epoch 22, CIFAR-10 Batch 3:  Loss:  0.55422  Accuracy:  0.6668\n",
      "Epoch 22, CIFAR-10 Batch 4:  Loss:  0.516003  Accuracy:  0.664\n",
      "Epoch 22, CIFAR-10 Batch 5:  Loss:  0.588397  Accuracy:  0.6752\n",
      "Epoch 23, CIFAR-10 Batch 1:  Loss:  0.67876  Accuracy:  0.648\n",
      "Epoch 23, CIFAR-10 Batch 2:  Loss:  0.661779  Accuracy:  0.6362\n",
      "Epoch 23, CIFAR-10 Batch 3:  Loss:  0.550223  Accuracy:  0.6764\n",
      "Epoch 23, CIFAR-10 Batch 4:  Loss:  0.491821  Accuracy:  0.6586\n",
      "Epoch 23, CIFAR-10 Batch 5:  Loss:  0.549786  Accuracy:  0.6764\n",
      "Epoch 24, CIFAR-10 Batch 1:  Loss:  0.692214  Accuracy:  0.6486\n",
      "Epoch 24, CIFAR-10 Batch 2:  Loss:  0.615547  Accuracy:  0.6564\n",
      "Epoch 24, CIFAR-10 Batch 3:  Loss:  0.555496  Accuracy:  0.6738\n",
      "Epoch 24, CIFAR-10 Batch 4:  Loss:  0.461954  Accuracy:  0.6736\n",
      "Epoch 24, CIFAR-10 Batch 5:  Loss:  0.537211  Accuracy:  0.6708\n",
      "Epoch 25, CIFAR-10 Batch 1:  Loss:  0.609455  Accuracy:  0.662\n",
      "Epoch 25, CIFAR-10 Batch 2:  Loss:  0.586905  Accuracy:  0.6492\n",
      "Epoch 25, CIFAR-10 Batch 3:  Loss:  0.54707  Accuracy:  0.6672\n",
      "Epoch 25, CIFAR-10 Batch 4:  Loss:  0.472674  Accuracy:  0.6724\n",
      "Epoch 25, CIFAR-10 Batch 5:  Loss:  0.513767  Accuracy:  0.6734\n",
      "Epoch 26, CIFAR-10 Batch 1:  Loss:  0.582375  Accuracy:  0.6712\n",
      "Epoch 26, CIFAR-10 Batch 2:  Loss:  0.556604  Accuracy:  0.656\n",
      "Epoch 26, CIFAR-10 Batch 3:  Loss:  0.511137  Accuracy:  0.665\n",
      "Epoch 26, CIFAR-10 Batch 4:  Loss:  0.435044  Accuracy:  0.6704\n",
      "Epoch 26, CIFAR-10 Batch 5:  Loss:  0.475801  Accuracy:  0.6768\n",
      "Epoch 27, CIFAR-10 Batch 1:  Loss:  0.554202  Accuracy:  0.6734\n",
      "Epoch 27, CIFAR-10 Batch 2:  Loss:  0.502269  Accuracy:  0.6726\n",
      "Epoch 27, CIFAR-10 Batch 3:  Loss:  0.485675  Accuracy:  0.6766\n",
      "Epoch 27, CIFAR-10 Batch 4:  Loss:  0.41239  Accuracy:  0.6726\n",
      "Epoch 27, CIFAR-10 Batch 5:  Loss:  0.474643  Accuracy:  0.6684\n",
      "Epoch 28, CIFAR-10 Batch 1:  Loss:  0.563017  Accuracy:  0.6664\n",
      "Epoch 28, CIFAR-10 Batch 2:  Loss:  0.490503  Accuracy:  0.6752\n",
      "Epoch 28, CIFAR-10 Batch 3:  Loss:  0.487812  Accuracy:  0.6648\n",
      "Epoch 28, CIFAR-10 Batch 4:  Loss:  0.399476  Accuracy:  0.671\n",
      "Epoch 28, CIFAR-10 Batch 5:  Loss:  0.449212  Accuracy:  0.679\n",
      "Epoch 29, CIFAR-10 Batch 1:  Loss:  0.509072  Accuracy:  0.6828\n",
      "Epoch 29, CIFAR-10 Batch 2:  Loss:  0.457982  Accuracy:  0.675\n",
      "Epoch 29, CIFAR-10 Batch 3:  Loss:  0.429498  Accuracy:  0.6832\n",
      "Epoch 29, CIFAR-10 Batch 4:  Loss:  0.422566  Accuracy:  0.657\n",
      "Epoch 29, CIFAR-10 Batch 5:  Loss:  0.445205  Accuracy:  0.6778\n",
      "Epoch 30, CIFAR-10 Batch 1:  Loss:  0.528661  Accuracy:  0.6676\n",
      "Epoch 30, CIFAR-10 Batch 2:  Loss:  0.450598  Accuracy:  0.6664\n",
      "Epoch 30, CIFAR-10 Batch 3:  Loss:  0.448563  Accuracy:  0.6708\n",
      "Epoch 30, CIFAR-10 Batch 4:  Loss:  0.349953  Accuracy:  0.6812\n",
      "Epoch 30, CIFAR-10 Batch 5:  Loss:  0.431726  Accuracy:  0.664\n",
      "Epoch 31, CIFAR-10 Batch 1:  Loss:  0.493984  Accuracy:  0.6704\n",
      "Epoch 31, CIFAR-10 Batch 2:  Loss:  0.477116  Accuracy:  0.6544\n",
      "Epoch 31, CIFAR-10 Batch 3:  Loss:  0.426764  Accuracy:  0.6804\n",
      "Epoch 31, CIFAR-10 Batch 4:  Loss:  0.34992  Accuracy:  0.6784\n",
      "Epoch 31, CIFAR-10 Batch 5:  Loss:  0.430258  Accuracy:  0.6652\n",
      "Epoch 32, CIFAR-10 Batch 1:  Loss:  0.478789  Accuracy:  0.6712\n",
      "Epoch 32, CIFAR-10 Batch 2:  Loss:  0.42561  Accuracy:  0.6874\n",
      "Epoch 32, CIFAR-10 Batch 3:  Loss:  0.423297  Accuracy:  0.6774\n",
      "Epoch 32, CIFAR-10 Batch 4:  Loss:  0.328136  Accuracy:  0.6846\n",
      "Epoch 32, CIFAR-10 Batch 5:  Loss:  0.418302  Accuracy:  0.6646\n",
      "Epoch 33, CIFAR-10 Batch 1:  Loss:  0.458162  Accuracy:  0.6684\n",
      "Epoch 33, CIFAR-10 Batch 2:  Loss:  0.450006  Accuracy:  0.663\n",
      "Epoch 33, CIFAR-10 Batch 3:  Loss:  0.410858  Accuracy:  0.676\n",
      "Epoch 33, CIFAR-10 Batch 4:  Loss:  0.334047  Accuracy:  0.6882\n",
      "Epoch 33, CIFAR-10 Batch 5:  Loss:  0.37926  Accuracy:  0.6566\n",
      "Epoch 34, CIFAR-10 Batch 1:  Loss:  0.428586  Accuracy:  0.6692\n",
      "Epoch 34, CIFAR-10 Batch 2:  Loss:  0.393237  Accuracy:  0.6662\n",
      "Epoch 34, CIFAR-10 Batch 3:  Loss:  0.408578  Accuracy:  0.6752\n",
      "Epoch 34, CIFAR-10 Batch 4:  Loss:  0.306817  Accuracy:  0.6868\n",
      "Epoch 34, CIFAR-10 Batch 5:  Loss:  0.403795  Accuracy:  0.6714\n",
      "Epoch 35, CIFAR-10 Batch 1:  Loss:  0.402779  Accuracy:  0.6876\n",
      "Epoch 35, CIFAR-10 Batch 2:  Loss:  0.367595  Accuracy:  0.684\n",
      "Epoch 35, CIFAR-10 Batch 3:  Loss:  0.391719  Accuracy:  0.6794\n",
      "Epoch 35, CIFAR-10 Batch 4:  Loss:  0.297523  Accuracy:  0.6782\n",
      "Epoch 35, CIFAR-10 Batch 5:  Loss:  0.384237  Accuracy:  0.6702\n",
      "Epoch 36, CIFAR-10 Batch 1:  Loss:  0.413353  Accuracy:  0.682\n",
      "Epoch 36, CIFAR-10 Batch 2:  Loss:  0.363978  Accuracy:  0.6844\n",
      "Epoch 36, CIFAR-10 Batch 3:  Loss:  0.355252  Accuracy:  0.6864\n",
      "Epoch 36, CIFAR-10 Batch 4:  Loss:  0.305481  Accuracy:  0.6776\n",
      "Epoch 36, CIFAR-10 Batch 5:  Loss:  0.338069  Accuracy:  0.6778\n",
      "Epoch 37, CIFAR-10 Batch 1:  Loss:  0.382692  Accuracy:  0.6902\n",
      "Epoch 37, CIFAR-10 Batch 2:  Loss:  0.349878  Accuracy:  0.6738\n",
      "Epoch 37, CIFAR-10 Batch 3:  Loss:  0.380801  Accuracy:  0.6716\n",
      "Epoch 37, CIFAR-10 Batch 4:  Loss:  0.277476  Accuracy:  0.692\n",
      "Epoch 37, CIFAR-10 Batch 5:  Loss:  0.340118  Accuracy:  0.6728\n",
      "Epoch 38, CIFAR-10 Batch 1:  Loss:  0.408961  Accuracy:  0.685\n",
      "Epoch 38, CIFAR-10 Batch 2:  Loss:  0.348492  Accuracy:  0.6862\n",
      "Epoch 38, CIFAR-10 Batch 3:  Loss:  0.342423  Accuracy:  0.68\n",
      "Epoch 38, CIFAR-10 Batch 4:  Loss:  0.283268  Accuracy:  0.6796\n",
      "Epoch 38, CIFAR-10 Batch 5:  Loss:  0.345381  Accuracy:  0.6776\n",
      "Epoch 39, CIFAR-10 Batch 1:  Loss:  0.384986  Accuracy:  0.6876\n",
      "Epoch 39, CIFAR-10 Batch 2:  Loss:  0.326763  Accuracy:  0.6792\n",
      "Epoch 39, CIFAR-10 Batch 3:  Loss:  0.342559  Accuracy:  0.6814\n",
      "Epoch 39, CIFAR-10 Batch 4:  Loss:  0.263468  Accuracy:  0.684\n",
      "Epoch 39, CIFAR-10 Batch 5:  Loss:  0.304804  Accuracy:  0.6754\n",
      "Epoch 40, CIFAR-10 Batch 1:  Loss:  0.383136  Accuracy:  0.6772\n",
      "Epoch 40, CIFAR-10 Batch 2:  Loss:  0.327754  Accuracy:  0.6784\n",
      "Epoch 40, CIFAR-10 Batch 3:  Loss:  0.338762  Accuracy:  0.6782\n",
      "Epoch 40, CIFAR-10 Batch 4:  Loss:  0.266615  Accuracy:  0.6846\n",
      "Epoch 40, CIFAR-10 Batch 5:  Loss:  0.28142  Accuracy:  0.6844\n",
      "Epoch 41, CIFAR-10 Batch 1:  Loss:  0.35644  Accuracy:  0.68\n",
      "Epoch 41, CIFAR-10 Batch 2:  Loss:  0.314932  Accuracy:  0.6834\n",
      "Epoch 41, CIFAR-10 Batch 3:  Loss:  0.295601  Accuracy:  0.6798\n",
      "Epoch 41, CIFAR-10 Batch 4:  Loss:  0.267783  Accuracy:  0.6802\n",
      "Epoch 41, CIFAR-10 Batch 5:  Loss:  0.278248  Accuracy:  0.682\n",
      "Epoch 42, CIFAR-10 Batch 1:  Loss:  0.348568  Accuracy:  0.6738\n",
      "Epoch 42, CIFAR-10 Batch 2:  Loss:  0.330903  Accuracy:  0.6754\n",
      "Epoch 42, CIFAR-10 Batch 3:  Loss:  0.317672  Accuracy:  0.6732\n",
      "Epoch 42, CIFAR-10 Batch 4:  Loss:  0.260223  Accuracy:  0.6804\n",
      "Epoch 42, CIFAR-10 Batch 5:  Loss:  0.27893  Accuracy:  0.6738\n",
      "Epoch 43, CIFAR-10 Batch 1:  Loss:  0.337715  Accuracy:  0.678\n",
      "Epoch 43, CIFAR-10 Batch 2:  Loss:  0.324402  Accuracy:  0.6698\n",
      "Epoch 43, CIFAR-10 Batch 3:  Loss:  0.332038  Accuracy:  0.6722\n",
      "Epoch 43, CIFAR-10 Batch 4:  Loss:  0.251952  Accuracy:  0.6874\n",
      "Epoch 43, CIFAR-10 Batch 5:  Loss:  0.257219  Accuracy:  0.6854\n",
      "Epoch 44, CIFAR-10 Batch 1:  Loss:  0.35449  Accuracy:  0.6728\n",
      "Epoch 44, CIFAR-10 Batch 2:  Loss:  0.316679  Accuracy:  0.688\n",
      "Epoch 44, CIFAR-10 Batch 3:  Loss:  0.350448  Accuracy:  0.6602\n",
      "Epoch 44, CIFAR-10 Batch 4:  Loss:  0.276334  Accuracy:  0.6778\n",
      "Epoch 44, CIFAR-10 Batch 5:  Loss:  0.237749  Accuracy:  0.6816\n",
      "Epoch 45, CIFAR-10 Batch 1:  Loss:  0.34325  Accuracy:  0.6694\n",
      "Epoch 45, CIFAR-10 Batch 2:  Loss:  0.339743  Accuracy:  0.678\n",
      "Epoch 45, CIFAR-10 Batch 3:  Loss:  0.285372  Accuracy:  0.6784\n",
      "Epoch 45, CIFAR-10 Batch 4:  Loss:  0.283054  Accuracy:  0.6582\n",
      "Epoch 45, CIFAR-10 Batch 5:  Loss:  0.255914  Accuracy:  0.6706\n"
     ]
    }
   ],
   "source": [
    "\"\"\"\n",
    "DON'T MODIFY ANYTHING IN THIS CELL\n",
    "\"\"\"\n",
    "save_model_path = './image_classification'\n",
    "\n",
    "print('Training...')\n",
    "with tf.Session() as sess:\n",
    "    # Initializing the variables\n",
    "    sess.run(tf.global_variables_initializer())\n",
    "    \n",
    "    # Training cycle\n",
    "    for epoch in range(epochs):\n",
    "        # Loop over all batches\n",
    "        n_batches = 5\n",
    "        for batch_i in range(1, n_batches + 1):\n",
    "            for batch_features, batch_labels in helper.load_preprocess_training_batch(batch_i, batch_size):\n",
    "                train_neural_network(sess, optimizer, keep_probability, batch_features, batch_labels)\n",
    "            print('Epoch {:>2}, CIFAR-10 Batch {}:  '.format(epoch + 1, batch_i), end='')\n",
    "            print_stats(sess, batch_features, batch_labels, cost, accuracy)\n",
    "            \n",
    "    # Save Model\n",
    "    saver = tf.train.Saver()\n",
    "    save_path = saver.save(sess, save_model_path)"
   ]
  },
  {
   "cell_type": "markdown",
   "metadata": {},
   "source": [
    "# Checkpoint\n",
    "The model has been saved to disk.\n",
    "## Test Model\n",
    "Test your model against the test dataset.  This will be your final accuracy. You should have an accuracy greater than 50%. If you don't, keep tweaking the model architecture and parameters."
   ]
  },
  {
   "cell_type": "code",
   "execution_count": 75,
   "metadata": {},
   "outputs": [
    {
     "name": "stdout",
     "output_type": "stream",
     "text": [
      "INFO:tensorflow:Restoring parameters from ./image_classification\n",
      "Testing Accuracy: 0.6706571698188781\n",
      "\n"
     ]
    },
    {
     "data": {
      "image/png": "[encoded data removed]",
      "text/plain": [
       "<matplotlib.figure.Figure at 0x117778320>"
      ]
     },
     "metadata": {
      "image/png": {
       "height": 319,
       "width": 355
      }
     },
     "output_type": "display_data"
    }
   ],
   "source": [
    "\"\"\"\n",
    "DON'T MODIFY ANYTHING IN THIS CELL\n",
    "\"\"\"\n",
    "%matplotlib inline\n",
    "%config InlineBackend.figure_format = 'retina'\n",
    "\n",
    "import tensorflow as tf\n",
    "import pickle\n",
    "import helper\n",
    "import random\n",
    "\n",
    "# Set batch size if not already set\n",
    "try:\n",
    "    if batch_size:\n",
    "        pass\n",
    "except NameError:\n",
    "    batch_size = 64\n",
    "\n",
    "save_model_path = './image_classification'\n",
    "n_samples = 4\n",
    "top_n_predictions = 3\n",
    "\n",
    "def test_model():\n",
    "    \"\"\"\n",
    "    Test the saved model against the test dataset\n",
    "    \"\"\"\n",
    "\n",
    "    test_features, test_labels = pickle.load(open('preprocess_test.p', mode='rb'))\n",
    "    loaded_graph = tf.Graph()\n",
    "\n",
    "    with tf.Session(graph=loaded_graph) as sess:\n",
    "        # Load model\n",
    "        loader = tf.train.import_meta_graph(save_model_path + '.meta')\n",
    "        loader.restore(sess, save_model_path)\n",
    "\n",
    "        # Get Tensors from loaded model\n",
    "        loaded_x = loaded_graph.get_tensor_by_name('x:0')\n",
    "        loaded_y = loaded_graph.get_tensor_by_name('y:0')\n",
    "        loaded_keep_prob = loaded_graph.get_tensor_by_name('keep_prob:0')\n",
    "        loaded_logits = loaded_graph.get_tensor_by_name('logits:0')\n",
    "        loaded_acc = loaded_graph.get_tensor_by_name('accuracy:0')\n",
    "        \n",
    "        # Get accuracy in batches for memory limitations\n",
    "        test_batch_acc_total = 0\n",
    "        test_batch_count = 0\n",
    "        \n",
    "        for test_feature_batch, test_label_batch in helper.batch_features_labels(test_features, test_labels, batch_size):\n",
    "            test_batch_acc_total += sess.run(\n",
    "                loaded_acc,\n",
    "                feed_dict={loaded_x: test_feature_batch, loaded_y: test_label_batch, loaded_keep_prob: 1.0})\n",
    "            test_batch_count += 1\n",
    "\n",
    "        print('Testing Accuracy: {}\\n'.format(test_batch_acc_total/test_batch_count))\n",
    "\n",
    "        # Print Random Samples\n",
    "        random_test_features, random_test_labels = tuple(zip(*random.sample(list(zip(test_features, test_labels)), n_samples)))\n",
    "        random_test_predictions = sess.run(\n",
    "            tf.nn.top_k(tf.nn.softmax(loaded_logits), top_n_predictions),\n",
    "            feed_dict={loaded_x: random_test_features, loaded_y: random_test_labels, loaded_keep_prob: 1.0})\n",
    "        helper.display_image_predictions(random_test_features, random_test_labels, random_test_predictions)\n",
    "\n",
    "\n",
    "test_model()"
   ]
  },
  {
   "cell_type": "markdown",
   "metadata": {},
   "source": [
    "## Why 50-80% Accuracy?\n",
    "You might be wondering why you can't get an accuracy any higher. First things first, 50% isn't bad for a simple CNN.  Pure guessing would get you 10% accuracy. However, you might notice people are getting scores [well above 80%](http://rodrigob.github.io/are_we_there_yet/build/classification_datasets_results.html#43494641522d3130).  That's because we haven't taught you all there is to know about neural networks. We still need to cover a few more techniques.\n",
    "## Submitting This Project\n",
    "When submitting this project, make sure to run all the cells before saving the notebook.  Save the notebook file as \"dlnd_image_classification.ipynb\" and save it as a HTML file under \"File\" -> \"Download as\".  Include the \"helper.py\" and \"problem_unittests.py\" files in your submission."
   ]
  }
 ],
 "metadata": {
  "kernelspec": {
   "display_name": "Python 3",
   "language": "python",
   "name": "python3"
  },
  "language_info": {
   "codemirror_mode": {
    "name": "ipython",
    "version": 3
   },
   "file_extension": ".py",
   "mimetype": "text/x-python",
   "name": "python",
   "nbconvert_exporter": "python",
   "pygments_lexer": "ipython3",
   "version": "3.5.3"
  }
 },
 "nbformat": 4,
 "nbformat_minor": 1
}
